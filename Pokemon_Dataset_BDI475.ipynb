{
  "nbformat": 4,
  "nbformat_minor": 0,
  "metadata": {
    "colab": {
      "name": "Pokemon Dataset BDI475",
      "provenance": [],
      "authorship_tag": "ABX9TyMM6yFW/f6MU4Eo1oFbs2vk",
      "include_colab_link": true
    },
    "kernelspec": {
      "name": "python3",
      "display_name": "Python 3"
    },
    "language_info": {
      "name": "python"
    }
  },
  "cells": [
    {
      "cell_type": "markdown",
      "metadata": {
        "id": "view-in-github",
        "colab_type": "text"
      },
      "source": [
        "<a href=\"https://colab.research.google.com/github/ownas/pokemon-dataset-project/blob/main/Pokemon_Dataset_BDI475.ipynb\" target=\"_parent\"><img src=\"https://colab.research.google.com/assets/colab-badge.svg\" alt=\"Open In Colab\"/></a>"
      ]
    },
    {
      "cell_type": "code",
      "metadata": {
        "id": "flYCIUYaCna3"
      },
      "source": [
        "import pandas as pd\n",
        "import numpy as np"
      ],
      "execution_count": 1,
      "outputs": []
    },
    {
      "cell_type": "code",
      "metadata": {
        "id": "8YZc-g_UCDX5"
      },
      "source": [
        "df = pd.read_csv('https://github.com/ownas/pokemon-dataset-project/raw/main/Pokemon.csv')"
      ],
      "execution_count": 2,
      "outputs": []
    },
    {
      "cell_type": "markdown",
      "metadata": {
        "id": "Ub10eriIHUd-"
      },
      "source": [
        "1) Describe why you've picked the dataset:\n",
        "  \n",
        "\n",
        "1.   I chose this dataset because I wanted to understand the complexities of why each Pokemon has vary degree of stats relative to their type, generation, and considering if they have a second attribute type 2. \n",
        "\n",
        "\n"
      ]
    },
    {
      "cell_type": "markdown",
      "metadata": {
        "id": "LipW-vBDH0s3"
      },
      "source": [
        "2) Come up with questions. What are you interested in?: \n",
        "\n",
        "1.   I am interested in understand what type group of Pokemon on average have higher or lower (totals, HP, Attack, Defense, Sp. Atk, Sp. Def, Speed) \n",
        "2.   Do Pokemon with two types have higher or lower \n",
        "total stat points?\n",
        "3.   Which non-Legendary Pokemon types experience highest total stat points?\n",
        "4.   Which types have the highest(lowest) respective stat? (totals, HP, Attack, Defense, Sp. Atk, Sp. Def, Speed) \n",
        "\n",
        "\n"
      ]
    },
    {
      "cell_type": "code",
      "metadata": {
        "id": "yodwbuXAIOtT",
        "colab": {
          "base_uri": "https://localhost:8080/"
        },
        "outputId": "5eed8938-3bd2-4c6c-ebf9-21864478a218"
      },
      "source": [
        "##Display the number of rows and columns\n",
        "num_rows = df.shape[0]\n",
        "print(f'There {num_rows} rows in this dataset.')\n",
        "\n",
        "num_cols = df.shape[1]\n",
        "print(f'There {num_cols} columns in this dataset.')"
      ],
      "execution_count": 3,
      "outputs": [
        {
          "output_type": "stream",
          "text": [
            "There 800 rows in this dataset.\n",
            "There 13 columns in this dataset.\n"
          ],
          "name": "stdout"
        }
      ]
    },
    {
      "cell_type": "code",
      "metadata": {
        "colab": {
          "base_uri": "https://localhost:8080/"
        },
        "id": "Q13tMoR-jelK",
        "outputId": "b715ef49-1e0a-4c70-cea4-7ac066c61069"
      },
      "source": [
        "##Check the data types of each column and number of non-missing rows\n",
        "df.info()"
      ],
      "execution_count": 4,
      "outputs": [
        {
          "output_type": "stream",
          "text": [
            "<class 'pandas.core.frame.DataFrame'>\n",
            "RangeIndex: 800 entries, 0 to 799\n",
            "Data columns (total 13 columns):\n",
            " #   Column      Non-Null Count  Dtype \n",
            "---  ------      --------------  ----- \n",
            " 0   #           800 non-null    int64 \n",
            " 1   Name        800 non-null    object\n",
            " 2   Type 1      800 non-null    object\n",
            " 3   Type 2      414 non-null    object\n",
            " 4   Total       800 non-null    int64 \n",
            " 5   HP          800 non-null    int64 \n",
            " 6   Attack      800 non-null    int64 \n",
            " 7   Defense     800 non-null    int64 \n",
            " 8   Sp. Atk     800 non-null    int64 \n",
            " 9   Sp. Def     800 non-null    int64 \n",
            " 10  Speed       800 non-null    int64 \n",
            " 11  Generation  800 non-null    int64 \n",
            " 12  Legendary   800 non-null    bool  \n",
            "dtypes: bool(1), int64(9), object(3)\n",
            "memory usage: 75.9+ KB\n"
          ],
          "name": "stdout"
        }
      ]
    },
    {
      "cell_type": "code",
      "metadata": {
        "id": "9KjNbYBHkG8c"
      },
      "source": [
        "##Parse datetime looking strings into valid datetime values if necessary \n"
      ],
      "execution_count": 5,
      "outputs": []
    }
  ]
}